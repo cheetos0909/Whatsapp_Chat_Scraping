{
  "cells": [
    {
      "cell_type": "code",
      "execution_count": null,
      "metadata": {
        "id": "5IT425yN5HgC"
      },
      "outputs": [],
      "source": []
    },
    {
      "cell_type": "markdown",
      "metadata": {
        "id": "vqXwUDxTlTY6"
      },
      "source": [
        "## Importing Libraries"
      ]
    },
    {
      "cell_type": "code",
      "execution_count": 1,
      "metadata": {
        "colab": {
          "base_uri": "https://localhost:8080/"
        },
        "id": "Ow1gy-fdlxJC",
        "outputId": "6a492f5a-86cd-4ffa-974d-666c5b8736b1"
      },
      "outputs": [
        {
          "name": "stdout",
          "output_type": "stream",
          "text": [
            "Collecting pushbullet.py\n",
            "  Downloading pushbullet.py-0.12.0-py2.py3-none-any.whl (10 kB)\n",
            "Requirement already satisfied: requests>=1.0.0 in /usr/local/lib/python3.10/dist-packages (from pushbullet.py) (2.31.0)\n",
            "Collecting python-magic (from pushbullet.py)\n",
            "  Downloading python_magic-0.4.27-py2.py3-none-any.whl (13 kB)\n",
            "Requirement already satisfied: websocket-client>=0.53.0 in /usr/local/lib/python3.10/dist-packages (from pushbullet.py) (1.6.3)\n",
            "Requirement already satisfied: charset-normalizer<4,>=2 in /usr/local/lib/python3.10/dist-packages (from requests>=1.0.0->pushbullet.py) (3.3.0)\n",
            "Requirement already satisfied: idna<4,>=2.5 in /usr/local/lib/python3.10/dist-packages (from requests>=1.0.0->pushbullet.py) (3.4)\n",
            "Requirement already satisfied: urllib3<3,>=1.21.1 in /usr/local/lib/python3.10/dist-packages (from requests>=1.0.0->pushbullet.py) (2.0.6)\n",
            "Requirement already satisfied: certifi>=2017.4.17 in /usr/local/lib/python3.10/dist-packages (from requests>=1.0.0->pushbullet.py) (2023.7.22)\n",
            "Installing collected packages: python-magic, pushbullet.py\n",
            "Successfully installed pushbullet.py-0.12.0 python-magic-0.4.27\n"
          ]
        }
      ],
      "source": [
        "pip install pushbullet.py"
      ]
    },
    {
      "cell_type": "code",
      "execution_count": 2,
      "metadata": {
        "id": "q2AH_fxDlI2O"
      },
      "outputs": [],
      "source": [
        "import urllib.request\n",
        "import os\n",
        "\n",
        "import pandas as pd\n",
        "from pushbullet import Pushbullet"
      ]
    },
    {
      "cell_type": "markdown",
      "metadata": {
        "id": "8XX6NbmumRJI"
      },
      "source": [
        "## API KEY"
      ]
    },
    {
      "cell_type": "code",
      "execution_count": 3,
      "metadata": {
        "id": "MzE3kPFilj23"
      },
      "outputs": [],
      "source": [
        "from config import API_KEY"
      ]
    },
    {
      "cell_type": "markdown",
      "metadata": {
        "id": "pVIVU8lneSIP"
      },
      "source": [
        "## Creating PushBullet Object and Fetching Data Using get_pushes() functioanality"
      ]
    },
    {
      "cell_type": "code",
      "execution_count": 4,
      "metadata": {
        "id": "p0NevDeZmfM_"
      },
      "outputs": [],
      "source": [
        "pb=Pushbullet(API_KEY)\n",
        "pushes=pb.get_pushes()\n"
      ]
    },
    {
      "cell_type": "markdown",
      "metadata": {
        "id": "TUaO2lq3eb2d"
      },
      "source": [
        "## Slicing Specific Push out of list of pushes"
      ]
    },
    {
      "cell_type": "code",
      "execution_count": 18,
      "metadata": {
        "colab": {
          "base_uri": "https://localhost:8080/"
        },
        "id": "fnmXe8ydhQAx",
        "outputId": "64db7666-b4cd-4419-b02d-d559f9399d0a"
      },
      "outputs": [
        {
          "data": {
            "text/plain": [
              "{'active': True,\n",
              " 'iden': 'ujEoDoTV0ICsjwA6Mh7SLc',\n",
              " 'created': 1696571976.145619,\n",
              " 'modified': 1696571976.145619,\n",
              " 'type': 'file',\n",
              " 'dismissed': False,\n",
              " 'guid': '39ec1bbe-4af7-4172-879f-02178cbcf607',\n",
              " 'direction': 'self',\n",
              " 'sender_iden': 'ujEoDoTV0IC',\n",
              " 'sender_email': 'mishraparth66@gmail.com',\n",
              " 'sender_email_normalized': 'mishraparth66@gmail.com',\n",
              " 'sender_name': 'parth mishra',\n",
              " 'receiver_iden': 'ujEoDoTV0IC',\n",
              " 'receiver_email': 'mishraparth66@gmail.com',\n",
              " 'receiver_email_normalized': 'mishraparth66@gmail.com',\n",
              " 'target_device_iden': 'ujEoDoTV0ICsjCd0hRmYbk',\n",
              " 'source_device_iden': 'ujEoDoTV0ICsjCd0hRmYbk',\n",
              " 'file_name': 'WhatsApp Chat with Aamin Khan MBA.txt',\n",
              " 'file_type': 'text/plain',\n",
              " 'file_url': 'https://dl3.pushbulletusercontent.com/sZt3waEozwrSaP7lBXH2G6IRuzXjcaGf/WhatsApp%20Chat%20with%20Aamin%20Khan%20MBA.txt'}"
            ]
          },
          "execution_count": 18,
          "metadata": {},
          "output_type": "execute_result"
        }
      ],
      "source": [
        "pushes[1]"
      ]
    },
    {
      "cell_type": "markdown",
      "metadata": {
        "id": "F9i3EwHOelrs"
      },
      "source": [
        "## Fetching File Name and adding File Path"
      ]
    },
    {
      "cell_type": "code",
      "execution_count": 19,
      "metadata": {
        "id": "Muwmo8ycmuv8"
      },
      "outputs": [],
      "source": [
        "url=pushes[1]['file_url']\n",
        "file_path=\"chatwithaamin.txt\""
      ]
    },
    {
      "cell_type": "markdown",
      "metadata": {
        "id": "siA0Mva6e4pb"
      },
      "source": [
        "##To  download a file from a URL using Python's `urllib.request.urlretrieve`"
      ]
    },
    {
      "cell_type": "code",
      "execution_count": 20,
      "metadata": {
        "colab": {
          "base_uri": "https://localhost:8080/"
        },
        "id": "sBLeMN4CnBcL",
        "outputId": "f233e3ca-f7c6-4690-a817-6dc7032aee3b"
      },
      "outputs": [
        {
          "data": {
            "text/plain": [
              "('chatwithaamin.txt', <http.client.HTTPMessage at 0x78c389857d00>)"
            ]
          },
          "execution_count": 20,
          "metadata": {},
          "output_type": "execute_result"
        }
      ],
      "source": [
        "urllib.request.urlretrieve(url,file_path)"
      ]
    },
    {
      "cell_type": "markdown",
      "metadata": {
        "id": "uzrpGryIe_Gt"
      },
      "source": [
        "# Read the file line by line"
      ]
    },
    {
      "cell_type": "code",
      "execution_count": 21,
      "metadata": {
        "id": "qgjFTrFHs6R5"
      },
      "outputs": [],
      "source": [
        "# Read the file line by line\n",
        "with open(file_path,mode='r',encoding='utf8')as f:\n",
        "  data =f.readlines()"
      ]
    },
    {
      "cell_type": "code",
      "execution_count": 22,
      "metadata": {
        "colab": {
          "base_uri": "https://localhost:8080/"
        },
        "id": "rgmqyYJMtetP",
        "outputId": "18638d7e-c26c-4146-99f2-b050dd785f5f"
      },
      "outputs": [
        {
          "data": {
            "text/plain": [
              "['1/28/23, 10:13 - Messages and calls are end-to-end encrypted. No one outside of this chat, not even WhatsApp, can read or listen to them. Tap to learn more.\\n',\n",
              " '1/28/23, 10:13 - Parth Mishra: Thanks buddy\\n',\n",
              " '1/28/23, 10:14 - Aamin Khan MBA: no need of that yr i knw there is a hole in our own department n i knw it very well\\n',\n",
              " '1/28/23, 10:15 - Parth Mishra: And this boycotting Avaahan is nothing but repeating the same mistake of breaking the unity of the department\\n',\n",
              " '1/28/23, 10:17 - Aamin Khan MBA: there is nothing like that ...only few peopke are creating a mess vo bhi ABVP valo ki Shed me toh inka kch nahi hona h let it be\\n',\n",
              " '1/28/23, 10:17 - Aamin Khan MBA: u continue ur prepration yr\\n',\n",
              " '1/28/23, 10:17 - Parth Mishra: Bilkul buddy we would be working hardly\\n',\n",
              " '1/28/23, 10:17 - Parth Mishra: Thanks for your support\\n',\n",
              " '1/28/23, 10:18 - Aamin Khan MBA: Thanks from my side too😎\\U0001fae1\\n',\n",
              " '1/28/23, 10:18 - Parth Mishra: 🤝🥂\\n',\n",
              " '1/29/23, 12:53 - Aamin Khan MBA: Bro partner hona compulsory h kya ...Akele nahi krsskte kya ?\\n',\n",
              " '1/29/23, 12:53 - Aamin Khan MBA: anchoring me\\n',\n",
              " '1/29/23, 12:54 - Aamin Khan MBA: vo kl jisne mujhse baat ki thi shyd shambhavi name tha unka ...unse ek baar clear krloge ?\\n',\n",
              " \"1/29/23, 14:32 - Parth Mishra: Buddy it's not possible currently to go solo\\n\",\n",
              " '1/29/23, 14:32 - Parth Mishra: But please check Sdsfians group\\n',\n",
              " '1/29/23, 14:32 - Parth Mishra: You might be paired with some other girl .\\n',\n",
              " '1/29/23, 14:36 - Aamin Khan MBA: ok i will manage\\n',\n",
              " '1/29/23, 14:36 - Parth Mishra: Sure\\n',\n",
              " '1/29/23, 22:41 - Aamin Khan MBA: Audition kitne bje se h ?\\n',\n",
              " '1/30/23, 00:19 - Parth Mishra: 1\\n',\n",
              " '1/30/23, 00:22 - Aamin Khan MBA: ok\\n',\n",
              " '1/31/23, 15:20 - Parth Mishra: Follow this link to join my WhatsApp group: https://chat.whatsapp.com/HjX7ldbOfvr69e916C6p9n\\n',\n",
              " '1/31/23, 15:20 - Parth Mishra: Join the group buddy\\n',\n",
              " '2/3/23, 21:53 - Aamin Khan MBA: The way this man handled the stage with fillers on the spot and leading the audience at the same time ...Hats Off brother 🥂💜\\n',\n",
              " '2/3/23, 21:53 - Aamin Khan MBA: thanky soo much parth bhai❣️❣️\\n',\n",
              " '2/3/23, 21:53 - Parth Mishra: Your welcome darling 🤝\\U0001fae0\\n',\n",
              " '3/22/23, 23:12 - Parth Mishra: <Media omitted>\\n',\n",
              " '3/22/23, 23:13 - Aamin Khan MBA: bs 3 question ?\\n',\n",
              " '3/22/23, 23:13 - Parth Mishra: <Media omitted>\\n',\n",
              " '3/22/23, 23:13 - Aamin Khan MBA: thanks bhai😎\\n',\n",
              " '3/22/23, 23:14 - Parth Mishra: You welcome buddy\\n',\n",
              " '3/28/23, 17:42 - Aamin Khan MBA: parth bhai maths ka msc ka paper ka jugad krwa do ye\\n',\n",
              " '3/28/23, 18:20 - Parth Mishra: Bhai maths tha hi nahi meko 😅\\n',\n",
              " '3/28/23, 18:32 - Aamin Khan MBA: 😅😅\\n',\n",
              " '3/28/23, 18:32 - Aamin Khan MBA: are yr\\n',\n",
              " '6/17/23, 21:30 - Parth Mishra: location: https://maps.google.com/?q=22.7387108,75.8892771\\n',\n",
              " '6/29/23, 15:42 - Parth Mishra: https://bit.ly/iNSPiREAnnapurna\\n',\n",
              " '6/29/23, 15:42 - Aamin Khan MBA: 🙏🏻\\n',\n",
              " '7/23/23, 13:04 - Aamin Khan MBA: are parth tumhara R ka paper do yr\\n',\n",
              " '7/23/23, 13:04 - Aamin Khan MBA: end sem ka\\n',\n",
              " '7/23/23, 15:12 - Parth Mishra: Hua hi nhi bhai 😂😂\\n',\n",
              " '8/3/23, 11:08 - Aamin Khan MBA: <Media omitted>\\n',\n",
              " '8/3/23, 11:08 - Aamin Khan MBA: <Media omitted>\\n',\n",
              " '8/3/23, 11:08 - Aamin Khan MBA: <Media omitted>\\n',\n",
              " '8/3/23, 11:09 - Aamin Khan MBA: <Media omitted>\\n',\n",
              " '8/3/23, 21:48 - Aamin Khan MBA: <Media omitted>\\n',\n",
              " '8/8/23, 13:00 - Aamin Khan MBA: <Media omitted>\\n',\n",
              " '8/8/23, 13:00 - Aamin Khan MBA: <Media omitted>\\n',\n",
              " '8/8/23, 13:00 - Aamin Khan MBA: Yeh kisi se analysis krwa sakta h kya ?\\n',\n",
              " '8/8/23, 13:00 - Aamin Khan MBA: Aaj sham tak 6 se phle\\n',\n",
              " '8/8/23, 18:22 - Parth Mishra: <Media omitted>\\n',\n",
              " '8/8/23, 18:22 - Parth Mishra: <Media omitted>\\n',\n",
              " '8/8/23, 18:22 - Parth Mishra: Check it\\n',\n",
              " '8/8/23, 19:17 - Aamin Khan MBA: AI tool use toh nhi kiya na ?\\n',\n",
              " '8/8/23, 20:37 - Parth Mishra: <Media omitted>\\n',\n",
              " '8/8/23, 20:49 - Aamin Khan MBA: Thanks to shraddha\\n',\n",
              " '8/8/23, 20:49 - Aamin Khan MBA: And tu bhadu mera phone hi mt uthana ab\\n',\n",
              " '8/8/23, 20:49 - Parth Mishra: Bhaiyu me aarti me tha\\n',\n",
              " '8/8/23, 20:49 - Parth Mishra: Tuesday\\n',\n",
              " '8/8/23, 20:50 - Parth Mishra: Hanuman ji\\n',\n",
              " '8/8/23, 20:50 - Parth Mishra: Isliye nahi utha paya re\\n',\n",
              " '9/16/23, 23:13 - Aamin Khan MBA: Yeh kab ar kha bharna h\\n',\n",
              " '9/16/23, 23:13 - Aamin Khan MBA: <Media omitted>\\n',\n",
              " '9/16/23, 23:17 - Parth Mishra: Monday\\n',\n",
              " '9/16/23, 23:17 - Parth Mishra: Emrc department\\n',\n",
              " '9/16/23, 23:26 - Aamin Khan MBA: Mondya ana h aisa\\n',\n",
              " '9/16/23, 23:26 - Aamin Khan MBA: Chl monday tak toh me ajaunga indore\\n',\n",
              " '9/20/23, 14:29 - Parth Mishra: Sun\\n',\n",
              " '9/20/23, 14:29 - Aamin Khan MBA: Suna\\n',\n",
              " '9/20/23, 14:29 - Parth Mishra: Tu wo SCM wala certificate ka bata rhaa tha distance ke\\n',\n",
              " '9/20/23, 14:29 - Parth Mishra: Ka\\n',\n",
              " '9/20/23, 14:29 - Parth Mishra: Uski details bhej\\n',\n",
              " '9/20/23, 14:29 - Aamin Khan MBA: Batata hu class me hu\\n',\n",
              " '9/20/23, 14:29 - Parth Mishra: Asambhav\\n',\n",
              " '9/20/23, 14:30 - Aamin Khan MBA: Asambhav kya\\n',\n",
              " '9/20/23, 14:30 - Parth Mishra: Aamin khan in class ho hi nahi sakta\\n',\n",
              " '9/20/23, 17:31 - Aamin Khan MBA: <Media omitted>\\n',\n",
              " '9/22/23, 19:01 - Aamin Khan MBA: <Media omitted>\\n',\n",
              " '9/22/23, 19:01 - Aamin Khan MBA: <Media omitted>\\n',\n",
              " '9/22/23, 19:01 - Aamin Khan MBA: <Media omitted>\\n',\n",
              " '9/22/23, 19:01 - Aamin Khan MBA: <Media omitted>\\n',\n",
              " '9/22/23, 19:01 - Aamin Khan MBA: <Media omitted>\\n',\n",
              " '9/22/23, 19:01 - Aamin Khan MBA: <Media omitted>\\n',\n",
              " '9/22/23, 19:01 - Aamin Khan MBA: <Media omitted>\\n',\n",
              " '9/22/23, 19:01 - Aamin Khan MBA: <Media omitted>\\n',\n",
              " '9/22/23, 19:15 - Parth Mishra: Thank you darling\\n',\n",
              " '9/22/23, 20:52 - Aamin Khan MBA: Missed voice call\\n',\n",
              " '9/22/23, 20:52 - Aamin Khan MBA: Missed voice call\\n',\n",
              " '9/28/23, 22:36 - Aamin Khan MBA: <Media omitted>\\n',\n",
              " '9/28/23, 22:36 - Aamin Khan MBA: <Media omitted>\\n',\n",
              " '9/28/23, 22:36 - Aamin Khan MBA: <Media omitted>\\n',\n",
              " '9/28/23, 22:36 - Aamin Khan MBA: <Media omitted>\\n',\n",
              " '9/28/23, 22:36 - Aamin Khan MBA: <Media omitted>\\n',\n",
              " '9/28/23, 22:36 - Aamin Khan MBA: <Media omitted>\\n',\n",
              " '9/29/23, 15:14 - Parth Mishra: Thank you darling\\n',\n",
              " '10/4/23, 23:44 - Aamin Khan MBA: <Media omitted>\\n',\n",
              " '10/4/23, 23:44 - Aamin Khan MBA: <Media omitted>\\n',\n",
              " '10/4/23, 23:44 - Aamin Khan MBA: <Media omitted>\\n',\n",
              " '10/4/23, 23:44 - Aamin Khan MBA: <Media omitted>\\n',\n",
              " '10/4/23, 23:44 - Aamin Khan MBA: <Media omitted>\\n',\n",
              " '10/4/23, 23:44 - Aamin Khan MBA: <Media omitted>\\n',\n",
              " '10/4/23, 23:44 - Aamin Khan MBA: <Media omitted>\\n',\n",
              " '10/4/23, 23:44 - Aamin Khan MBA: <Media omitted>\\n',\n",
              " '10/4/23, 23:44 - Aamin Khan MBA: <Media omitted>\\n',\n",
              " '10/4/23, 23:44 - Aamin Khan MBA: <Media omitted>\\n',\n",
              " '10/4/23, 23:44 - Aamin Khan MBA: <Media omitted>\\n',\n",
              " '10/4/23, 23:44 - Aamin Khan MBA: <Media omitted>\\n',\n",
              " '10/4/23, 23:51 - Aamin Khan MBA: <Media omitted>\\n',\n",
              " '10/4/23, 23:51 - Aamin Khan MBA: <Media omitted>\\n']"
            ]
          },
          "execution_count": 22,
          "metadata": {},
          "output_type": "execute_result"
        }
      ],
      "source": [
        "data"
      ]
    },
    {
      "cell_type": "markdown",
      "metadata": {
        "id": "Qo5uDL4Tto36"
      },
      "source": [
        "## CLEANING DATA"
      ]
    },
    {
      "cell_type": "code",
      "execution_count": 23,
      "metadata": {
        "colab": {
          "base_uri": "https://localhost:8080/"
        },
        "id": "_UtL3PRMthYS",
        "outputId": "cc693ee8-c984-4896-8bb3-b310a7a8335f"
      },
      "outputs": [
        {
          "name": "stdout",
          "output_type": "stream",
          "text": [
            "1/28/23 10:13  Parth Mishra Thanks buddy\n",
            "1/28/23 10:14  Aamin Khan MBA no need of that yr i knw there is a hole in our own department n i knw it very well\n",
            "1/28/23 10:15  Parth Mishra And this boycotting Avaahan is nothing but repeating the same mistake of breaking the unity of the department\n",
            "1/28/23 10:17  Aamin Khan MBA there is nothing like that ...only few peopke are creating a mess vo bhi ABVP valo ki Shed me toh inka kch nahi hona h let it be\n",
            "1/28/23 10:17  Aamin Khan MBA u continue ur prepration yr\n",
            "1/28/23 10:17  Parth Mishra Bilkul buddy we would be working hardly\n",
            "1/28/23 10:17  Parth Mishra Thanks for your support\n",
            "1/28/23 10:18  Aamin Khan MBA Thanks from my side too😎🫡\n",
            "1/28/23 10:18  Parth Mishra 🤝🥂\n",
            "1/29/23 12:53  Aamin Khan MBA Bro partner hona compulsory h kya ...Akele nahi krsskte kya ?\n",
            "1/29/23 12:53  Aamin Khan MBA anchoring me\n",
            "1/29/23 12:54  Aamin Khan MBA vo kl jisne mujhse baat ki thi shyd shambhavi name tha unka ...unse ek baar clear krloge ?\n",
            "1/29/23 14:32  Parth Mishra Buddy it's not possible currently to go solo\n",
            "1/29/23 14:32  Parth Mishra But please check Sdsfians group\n",
            "1/29/23 14:32  Parth Mishra You might be paired with some other girl .\n",
            "1/29/23 14:36  Aamin Khan MBA ok i will manage\n",
            "1/29/23 14:36  Parth Mishra Sure\n",
            "1/29/23 22:41  Aamin Khan MBA Audition kitne bje se h ?\n",
            "1/30/23 00:19  Parth Mishra 1\n",
            "1/30/23 00:22  Aamin Khan MBA ok\n",
            "1/31/23 15:20  Parth Mishra Follow this link to join my WhatsApp group: https://chat.whatsapp.com/HjX7ldbOfvr69e916C6p9n\n",
            "1/31/23 15:20  Parth Mishra Join the group buddy\n",
            "2/3/23 21:53  Aamin Khan MBA The way this man handled the stage with fillers on the spot and leading the audience at the same time ...Hats Off brother 🥂💜\n",
            "2/3/23 21:53  Aamin Khan MBA thanky soo much parth bhai❣️❣️\n",
            "2/3/23 21:53  Parth Mishra Your welcome darling 🤝🫠\n",
            "3/22/23 23:12  Parth Mishra <Media omitted>\n",
            "3/22/23 23:13  Aamin Khan MBA bs 3 question ?\n",
            "3/22/23 23:13  Parth Mishra <Media omitted>\n",
            "3/22/23 23:13  Aamin Khan MBA thanks bhai😎\n",
            "3/22/23 23:14  Parth Mishra You welcome buddy\n",
            "3/28/23 17:42  Aamin Khan MBA parth bhai maths ka msc ka paper ka jugad krwa do ye\n",
            "3/28/23 18:20  Parth Mishra Bhai maths tha hi nahi meko 😅\n",
            "3/28/23 18:32  Aamin Khan MBA 😅😅\n",
            "3/28/23 18:32  Aamin Khan MBA are yr\n",
            "6/17/23 21:30  Parth Mishra location: https://maps.google.com/?q=22.7387108,75.8892771\n",
            "6/29/23 15:42  Parth Mishra https://bit.ly/iNSPiREAnnapurna\n",
            "6/29/23 15:42  Aamin Khan MBA 🙏🏻\n",
            "7/23/23 13:04  Aamin Khan MBA are parth tumhara R ka paper do yr\n",
            "7/23/23 13:04  Aamin Khan MBA end sem ka\n",
            "7/23/23 15:12  Parth Mishra Hua hi nhi bhai 😂😂\n",
            "8/3/23 11:08  Aamin Khan MBA <Media omitted>\n",
            "8/3/23 11:08  Aamin Khan MBA <Media omitted>\n",
            "8/3/23 11:08  Aamin Khan MBA <Media omitted>\n",
            "8/3/23 11:09  Aamin Khan MBA <Media omitted>\n",
            "8/3/23 21:48  Aamin Khan MBA <Media omitted>\n",
            "8/8/23 13:00  Aamin Khan MBA <Media omitted>\n",
            "8/8/23 13:00  Aamin Khan MBA <Media omitted>\n",
            "8/8/23 13:00  Aamin Khan MBA Yeh kisi se analysis krwa sakta h kya ?\n",
            "8/8/23 13:00  Aamin Khan MBA Aaj sham tak 6 se phle\n",
            "8/8/23 18:22  Parth Mishra <Media omitted>\n",
            "8/8/23 18:22  Parth Mishra <Media omitted>\n",
            "8/8/23 18:22  Parth Mishra Check it\n",
            "8/8/23 19:17  Aamin Khan MBA AI tool use toh nhi kiya na ?\n",
            "8/8/23 20:37  Parth Mishra <Media omitted>\n",
            "8/8/23 20:49  Aamin Khan MBA Thanks to shraddha\n",
            "8/8/23 20:49  Aamin Khan MBA And tu bhadu mera phone hi mt uthana ab\n",
            "8/8/23 20:49  Parth Mishra Bhaiyu me aarti me tha\n",
            "8/8/23 20:49  Parth Mishra Tuesday\n",
            "8/8/23 20:50  Parth Mishra Hanuman ji\n",
            "8/8/23 20:50  Parth Mishra Isliye nahi utha paya re\n",
            "9/16/23 23:13  Aamin Khan MBA Yeh kab ar kha bharna h\n",
            "9/16/23 23:13  Aamin Khan MBA <Media omitted>\n",
            "9/16/23 23:17  Parth Mishra Monday\n",
            "9/16/23 23:17  Parth Mishra Emrc department\n",
            "9/16/23 23:26  Aamin Khan MBA Mondya ana h aisa\n",
            "9/16/23 23:26  Aamin Khan MBA Chl monday tak toh me ajaunga indore\n",
            "9/20/23 14:29  Parth Mishra Sun\n",
            "9/20/23 14:29  Aamin Khan MBA Suna\n",
            "9/20/23 14:29  Parth Mishra Tu wo SCM wala certificate ka bata rhaa tha distance ke\n",
            "9/20/23 14:29  Parth Mishra Ka\n",
            "9/20/23 14:29  Parth Mishra Uski details bhej\n",
            "9/20/23 14:29  Aamin Khan MBA Batata hu class me hu\n",
            "9/20/23 14:29  Parth Mishra Asambhav\n",
            "9/20/23 14:30  Aamin Khan MBA Asambhav kya\n",
            "9/20/23 14:30  Parth Mishra Aamin khan in class ho hi nahi sakta\n",
            "9/20/23 17:31  Aamin Khan MBA <Media omitted>\n",
            "9/22/23 19:01  Aamin Khan MBA <Media omitted>\n",
            "9/22/23 19:01  Aamin Khan MBA <Media omitted>\n",
            "9/22/23 19:01  Aamin Khan MBA <Media omitted>\n",
            "9/22/23 19:01  Aamin Khan MBA <Media omitted>\n",
            "9/22/23 19:01  Aamin Khan MBA <Media omitted>\n",
            "9/22/23 19:01  Aamin Khan MBA <Media omitted>\n",
            "9/22/23 19:01  Aamin Khan MBA <Media omitted>\n",
            "9/22/23 19:01  Aamin Khan MBA <Media omitted>\n",
            "9/22/23 19:15  Parth Mishra Thank you darling\n",
            "9/22/23 20:52  Aamin Khan MBA Missed voice call\n",
            "9/22/23 20:52  Aamin Khan MBA Missed voice call\n",
            "9/28/23 22:36  Aamin Khan MBA <Media omitted>\n",
            "9/28/23 22:36  Aamin Khan MBA <Media omitted>\n",
            "9/28/23 22:36  Aamin Khan MBA <Media omitted>\n",
            "9/28/23 22:36  Aamin Khan MBA <Media omitted>\n",
            "9/28/23 22:36  Aamin Khan MBA <Media omitted>\n",
            "9/28/23 22:36  Aamin Khan MBA <Media omitted>\n",
            "9/29/23 15:14  Parth Mishra Thank you darling\n",
            "10/4/23 23:44  Aamin Khan MBA <Media omitted>\n",
            "10/4/23 23:44  Aamin Khan MBA <Media omitted>\n",
            "10/4/23 23:44  Aamin Khan MBA <Media omitted>\n",
            "10/4/23 23:44  Aamin Khan MBA <Media omitted>\n",
            "10/4/23 23:44  Aamin Khan MBA <Media omitted>\n",
            "10/4/23 23:44  Aamin Khan MBA <Media omitted>\n",
            "10/4/23 23:44  Aamin Khan MBA <Media omitted>\n",
            "10/4/23 23:44  Aamin Khan MBA <Media omitted>\n",
            "10/4/23 23:44  Aamin Khan MBA <Media omitted>\n",
            "10/4/23 23:44  Aamin Khan MBA <Media omitted>\n",
            "10/4/23 23:44  Aamin Khan MBA <Media omitted>\n",
            "10/4/23 23:44  Aamin Khan MBA <Media omitted>\n",
            "10/4/23 23:51  Aamin Khan MBA <Media omitted>\n",
            "10/4/23 23:51  Aamin Khan MBA <Media omitted>\n"
          ]
        }
      ],
      "source": [
        "dataset = data[1:]\n",
        "cleaned_data  = []\n",
        "for line in dataset:\n",
        "  #grab the info and cut it out\n",
        "  date = line.split(\",\")[0]\n",
        "  line2 = line[len(date):]\n",
        "  time = line2.split(\"-\")[0][2:]\n",
        "  line3= line2[len(time):]\n",
        "  name = line3.split(\":\")[0][4:]\n",
        "  line4 = line3[len(name):]\n",
        "  message = line4[6:-1] # strip newline charactor\n",
        "  print (date, time, name, message)\n",
        "  cleaned_data.append([date, time, name, message])"
      ]
    },
    {
      "cell_type": "code",
      "execution_count": 24,
      "metadata": {
        "id": "9iQ_dVdmuQAd"
      },
      "outputs": [],
      "source": [
        "df=pd.DataFrame(cleaned_data,columns=['Date','Time','Name','Message'])"
      ]
    },
    {
      "cell_type": "code",
      "execution_count": 25,
      "metadata": {
        "id": "C4Kis1d9vXkz"
      },
      "outputs": [],
      "source": [
        "df.to_excel('chat_with_friend.xlsx',index=False)"
      ]
    },
    {
      "cell_type": "code",
      "execution_count": 26,
      "metadata": {
        "colab": {
          "base_uri": "https://localhost:8080/",
          "height": 679
        },
        "id": "8MY8d1F4vh6T",
        "outputId": "59bfe869-e11d-4923-b5cd-15bd77691819"
      },
      "outputs": [
        {
          "data": {
            "text/html": [
              "\n",
              "  <div id=\"df-d96501c8-d2d7-4424-a832-24f36cf40526\" class=\"colab-df-container\">\n",
              "    <div>\n",
              "<style scoped>\n",
              "    .dataframe tbody tr th:only-of-type {\n",
              "        vertical-align: middle;\n",
              "    }\n",
              "\n",
              "    .dataframe tbody tr th {\n",
              "        vertical-align: top;\n",
              "    }\n",
              "\n",
              "    .dataframe thead th {\n",
              "        text-align: right;\n",
              "    }\n",
              "</style>\n",
              "<table border=\"1\" class=\"dataframe\">\n",
              "  <thead>\n",
              "    <tr style=\"text-align: right;\">\n",
              "      <th></th>\n",
              "      <th>Date</th>\n",
              "      <th>Time</th>\n",
              "      <th>Name</th>\n",
              "      <th>Message</th>\n",
              "    </tr>\n",
              "  </thead>\n",
              "  <tbody>\n",
              "    <tr>\n",
              "      <th>0</th>\n",
              "      <td>1/28/23</td>\n",
              "      <td>10:13</td>\n",
              "      <td>Parth Mishra</td>\n",
              "      <td>Thanks buddy</td>\n",
              "    </tr>\n",
              "    <tr>\n",
              "      <th>1</th>\n",
              "      <td>1/28/23</td>\n",
              "      <td>10:14</td>\n",
              "      <td>Aamin Khan MBA</td>\n",
              "      <td>no need of that yr i knw there is a hole in ou...</td>\n",
              "    </tr>\n",
              "    <tr>\n",
              "      <th>2</th>\n",
              "      <td>1/28/23</td>\n",
              "      <td>10:15</td>\n",
              "      <td>Parth Mishra</td>\n",
              "      <td>And this boycotting Avaahan is nothing but rep...</td>\n",
              "    </tr>\n",
              "    <tr>\n",
              "      <th>3</th>\n",
              "      <td>1/28/23</td>\n",
              "      <td>10:17</td>\n",
              "      <td>Aamin Khan MBA</td>\n",
              "      <td>there is nothing like that ...only few peopke ...</td>\n",
              "    </tr>\n",
              "    <tr>\n",
              "      <th>4</th>\n",
              "      <td>1/28/23</td>\n",
              "      <td>10:17</td>\n",
              "      <td>Aamin Khan MBA</td>\n",
              "      <td>u continue ur prepration yr</td>\n",
              "    </tr>\n",
              "    <tr>\n",
              "      <th>...</th>\n",
              "      <td>...</td>\n",
              "      <td>...</td>\n",
              "      <td>...</td>\n",
              "      <td>...</td>\n",
              "    </tr>\n",
              "    <tr>\n",
              "      <th>103</th>\n",
              "      <td>10/4/23</td>\n",
              "      <td>23:44</td>\n",
              "      <td>Aamin Khan MBA</td>\n",
              "      <td>&lt;Media omitted&gt;</td>\n",
              "    </tr>\n",
              "    <tr>\n",
              "      <th>104</th>\n",
              "      <td>10/4/23</td>\n",
              "      <td>23:44</td>\n",
              "      <td>Aamin Khan MBA</td>\n",
              "      <td>&lt;Media omitted&gt;</td>\n",
              "    </tr>\n",
              "    <tr>\n",
              "      <th>105</th>\n",
              "      <td>10/4/23</td>\n",
              "      <td>23:44</td>\n",
              "      <td>Aamin Khan MBA</td>\n",
              "      <td>&lt;Media omitted&gt;</td>\n",
              "    </tr>\n",
              "    <tr>\n",
              "      <th>106</th>\n",
              "      <td>10/4/23</td>\n",
              "      <td>23:51</td>\n",
              "      <td>Aamin Khan MBA</td>\n",
              "      <td>&lt;Media omitted&gt;</td>\n",
              "    </tr>\n",
              "    <tr>\n",
              "      <th>107</th>\n",
              "      <td>10/4/23</td>\n",
              "      <td>23:51</td>\n",
              "      <td>Aamin Khan MBA</td>\n",
              "      <td>&lt;Media omitted&gt;</td>\n",
              "    </tr>\n",
              "  </tbody>\n",
              "</table>\n",
              "<p>108 rows × 4 columns</p>\n",
              "</div>\n",
              "    <div class=\"colab-df-buttons\">\n",
              "\n",
              "  <div class=\"colab-df-container\">\n",
              "    <button class=\"colab-df-convert\" onclick=\"convertToInteractive('df-d96501c8-d2d7-4424-a832-24f36cf40526')\"\n",
              "            title=\"Convert this dataframe to an interactive table.\"\n",
              "            style=\"display:none;\">\n",
              "\n",
              "  <svg xmlns=\"http://www.w3.org/2000/svg\" height=\"24px\" viewBox=\"0 -960 960 960\">\n",
              "    <path d=\"M120-120v-720h720v720H120Zm60-500h600v-160H180v160Zm220 220h160v-160H400v160Zm0 220h160v-160H400v160ZM180-400h160v-160H180v160Zm440 0h160v-160H620v160ZM180-180h160v-160H180v160Zm440 0h160v-160H620v160Z\"/>\n",
              "  </svg>\n",
              "    </button>\n",
              "\n",
              "  <style>\n",
              "    .colab-df-container {\n",
              "      display:flex;\n",
              "      gap: 12px;\n",
              "    }\n",
              "\n",
              "    .colab-df-convert {\n",
              "      background-color: #E8F0FE;\n",
              "      border: none;\n",
              "      border-radius: 50%;\n",
              "      cursor: pointer;\n",
              "      display: none;\n",
              "      fill: #1967D2;\n",
              "      height: 32px;\n",
              "      padding: 0 0 0 0;\n",
              "      width: 32px;\n",
              "    }\n",
              "\n",
              "    .colab-df-convert:hover {\n",
              "      background-color: #E2EBFA;\n",
              "      box-shadow: 0px 1px 2px rgba(60, 64, 67, 0.3), 0px 1px 3px 1px rgba(60, 64, 67, 0.15);\n",
              "      fill: #174EA6;\n",
              "    }\n",
              "\n",
              "    .colab-df-buttons div {\n",
              "      margin-bottom: 4px;\n",
              "    }\n",
              "\n",
              "    [theme=dark] .colab-df-convert {\n",
              "      background-color: #3B4455;\n",
              "      fill: #D2E3FC;\n",
              "    }\n",
              "\n",
              "    [theme=dark] .colab-df-convert:hover {\n",
              "      background-color: #434B5C;\n",
              "      box-shadow: 0px 1px 3px 1px rgba(0, 0, 0, 0.15);\n",
              "      filter: drop-shadow(0px 1px 2px rgba(0, 0, 0, 0.3));\n",
              "      fill: #FFFFFF;\n",
              "    }\n",
              "  </style>\n",
              "\n",
              "    <script>\n",
              "      const buttonEl =\n",
              "        document.querySelector('#df-d96501c8-d2d7-4424-a832-24f36cf40526 button.colab-df-convert');\n",
              "      buttonEl.style.display =\n",
              "        google.colab.kernel.accessAllowed ? 'block' : 'none';\n",
              "\n",
              "      async function convertToInteractive(key) {\n",
              "        const element = document.querySelector('#df-d96501c8-d2d7-4424-a832-24f36cf40526');\n",
              "        const dataTable =\n",
              "          await google.colab.kernel.invokeFunction('convertToInteractive',\n",
              "                                                    [key], {});\n",
              "        if (!dataTable) return;\n",
              "\n",
              "        const docLinkHtml = 'Like what you see? Visit the ' +\n",
              "          '<a target=\"_blank\" href=https://colab.research.google.com/notebooks/data_table.ipynb>data table notebook</a>'\n",
              "          + ' to learn more about interactive tables.';\n",
              "        element.innerHTML = '';\n",
              "        dataTable['output_type'] = 'display_data';\n",
              "        await google.colab.output.renderOutput(dataTable, element);\n",
              "        const docLink = document.createElement('div');\n",
              "        docLink.innerHTML = docLinkHtml;\n",
              "        element.appendChild(docLink);\n",
              "      }\n",
              "    </script>\n",
              "  </div>\n",
              "\n",
              "\n",
              "<div id=\"df-1a7ba8d3-0963-4f61-95ed-bade3e8c1ec8\">\n",
              "  <button class=\"colab-df-quickchart\" onclick=\"quickchart('df-1a7ba8d3-0963-4f61-95ed-bade3e8c1ec8')\"\n",
              "            title=\"Suggest charts.\"\n",
              "            style=\"display:none;\">\n",
              "\n",
              "<svg xmlns=\"http://www.w3.org/2000/svg\" height=\"24px\"viewBox=\"0 0 24 24\"\n",
              "     width=\"24px\">\n",
              "    <g>\n",
              "        <path d=\"M19 3H5c-1.1 0-2 .9-2 2v14c0 1.1.9 2 2 2h14c1.1 0 2-.9 2-2V5c0-1.1-.9-2-2-2zM9 17H7v-7h2v7zm4 0h-2V7h2v10zm4 0h-2v-4h2v4z\"/>\n",
              "    </g>\n",
              "</svg>\n",
              "  </button>\n",
              "\n",
              "<style>\n",
              "  .colab-df-quickchart {\n",
              "      --bg-color: #E8F0FE;\n",
              "      --fill-color: #1967D2;\n",
              "      --hover-bg-color: #E2EBFA;\n",
              "      --hover-fill-color: #174EA6;\n",
              "      --disabled-fill-color: #AAA;\n",
              "      --disabled-bg-color: #DDD;\n",
              "  }\n",
              "\n",
              "  [theme=dark] .colab-df-quickchart {\n",
              "      --bg-color: #3B4455;\n",
              "      --fill-color: #D2E3FC;\n",
              "      --hover-bg-color: #434B5C;\n",
              "      --hover-fill-color: #FFFFFF;\n",
              "      --disabled-bg-color: #3B4455;\n",
              "      --disabled-fill-color: #666;\n",
              "  }\n",
              "\n",
              "  .colab-df-quickchart {\n",
              "    background-color: var(--bg-color);\n",
              "    border: none;\n",
              "    border-radius: 50%;\n",
              "    cursor: pointer;\n",
              "    display: none;\n",
              "    fill: var(--fill-color);\n",
              "    height: 32px;\n",
              "    padding: 0;\n",
              "    width: 32px;\n",
              "  }\n",
              "\n",
              "  .colab-df-quickchart:hover {\n",
              "    background-color: var(--hover-bg-color);\n",
              "    box-shadow: 0 1px 2px rgba(60, 64, 67, 0.3), 0 1px 3px 1px rgba(60, 64, 67, 0.15);\n",
              "    fill: var(--button-hover-fill-color);\n",
              "  }\n",
              "\n",
              "  .colab-df-quickchart-complete:disabled,\n",
              "  .colab-df-quickchart-complete:disabled:hover {\n",
              "    background-color: var(--disabled-bg-color);\n",
              "    fill: var(--disabled-fill-color);\n",
              "    box-shadow: none;\n",
              "  }\n",
              "\n",
              "  .colab-df-spinner {\n",
              "    border: 2px solid var(--fill-color);\n",
              "    border-color: transparent;\n",
              "    border-bottom-color: var(--fill-color);\n",
              "    animation:\n",
              "      spin 1s steps(1) infinite;\n",
              "  }\n",
              "\n",
              "  @keyframes spin {\n",
              "    0% {\n",
              "      border-color: transparent;\n",
              "      border-bottom-color: var(--fill-color);\n",
              "      border-left-color: var(--fill-color);\n",
              "    }\n",
              "    20% {\n",
              "      border-color: transparent;\n",
              "      border-left-color: var(--fill-color);\n",
              "      border-top-color: var(--fill-color);\n",
              "    }\n",
              "    30% {\n",
              "      border-color: transparent;\n",
              "      border-left-color: var(--fill-color);\n",
              "      border-top-color: var(--fill-color);\n",
              "      border-right-color: var(--fill-color);\n",
              "    }\n",
              "    40% {\n",
              "      border-color: transparent;\n",
              "      border-right-color: var(--fill-color);\n",
              "      border-top-color: var(--fill-color);\n",
              "    }\n",
              "    60% {\n",
              "      border-color: transparent;\n",
              "      border-right-color: var(--fill-color);\n",
              "    }\n",
              "    80% {\n",
              "      border-color: transparent;\n",
              "      border-right-color: var(--fill-color);\n",
              "      border-bottom-color: var(--fill-color);\n",
              "    }\n",
              "    90% {\n",
              "      border-color: transparent;\n",
              "      border-bottom-color: var(--fill-color);\n",
              "    }\n",
              "  }\n",
              "</style>\n",
              "\n",
              "  <script>\n",
              "    async function quickchart(key) {\n",
              "      const quickchartButtonEl =\n",
              "        document.querySelector('#' + key + ' button');\n",
              "      quickchartButtonEl.disabled = true;  // To prevent multiple clicks.\n",
              "      quickchartButtonEl.classList.add('colab-df-spinner');\n",
              "      try {\n",
              "        const charts = await google.colab.kernel.invokeFunction(\n",
              "            'suggestCharts', [key], {});\n",
              "      } catch (error) {\n",
              "        console.error('Error during call to suggestCharts:', error);\n",
              "      }\n",
              "      quickchartButtonEl.classList.remove('colab-df-spinner');\n",
              "      quickchartButtonEl.classList.add('colab-df-quickchart-complete');\n",
              "    }\n",
              "    (() => {\n",
              "      let quickchartButtonEl =\n",
              "        document.querySelector('#df-1a7ba8d3-0963-4f61-95ed-bade3e8c1ec8 button');\n",
              "      quickchartButtonEl.style.display =\n",
              "        google.colab.kernel.accessAllowed ? 'block' : 'none';\n",
              "    })();\n",
              "  </script>\n",
              "</div>\n",
              "    </div>\n",
              "  </div>\n"
            ],
            "text/plain": [
              "        Date    Time            Name  \\\n",
              "0    1/28/23  10:13     Parth Mishra   \n",
              "1    1/28/23  10:14   Aamin Khan MBA   \n",
              "2    1/28/23  10:15     Parth Mishra   \n",
              "3    1/28/23  10:17   Aamin Khan MBA   \n",
              "4    1/28/23  10:17   Aamin Khan MBA   \n",
              "..       ...     ...             ...   \n",
              "103  10/4/23  23:44   Aamin Khan MBA   \n",
              "104  10/4/23  23:44   Aamin Khan MBA   \n",
              "105  10/4/23  23:44   Aamin Khan MBA   \n",
              "106  10/4/23  23:51   Aamin Khan MBA   \n",
              "107  10/4/23  23:51   Aamin Khan MBA   \n",
              "\n",
              "                                               Message  \n",
              "0                                         Thanks buddy  \n",
              "1    no need of that yr i knw there is a hole in ou...  \n",
              "2    And this boycotting Avaahan is nothing but rep...  \n",
              "3    there is nothing like that ...only few peopke ...  \n",
              "4                          u continue ur prepration yr  \n",
              "..                                                 ...  \n",
              "103                                    <Media omitted>  \n",
              "104                                    <Media omitted>  \n",
              "105                                    <Media omitted>  \n",
              "106                                    <Media omitted>  \n",
              "107                                    <Media omitted>  \n",
              "\n",
              "[108 rows x 4 columns]"
            ]
          },
          "execution_count": 26,
          "metadata": {},
          "output_type": "execute_result"
        }
      ],
      "source": [
        "df"
      ]
    },
    {
      "cell_type": "code",
      "execution_count": null,
      "metadata": {
        "id": "E1SLQK3DvwmE"
      },
      "outputs": [],
      "source": []
    }
  ],
  "metadata": {
    "colab": {
      "provenance": []
    },
    "kernelspec": {
      "display_name": "Python 3",
      "name": "python3"
    },
    "language_info": {
      "name": "python"
    }
  },
  "nbformat": 4,
  "nbformat_minor": 0
}
